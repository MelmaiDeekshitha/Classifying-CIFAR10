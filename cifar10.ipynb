{
  "nbformat": 4,
  "nbformat_minor": 0,
  "metadata": {
    "colab": {
      "name": "cifar10.ipynb",
      "provenance": [],
      "collapsed_sections": []
    },
    "kernelspec": {
      "name": "python3",
      "display_name": "Python 3"
    },
    "language_info": {
      "name": "python"
    }
  },
  "cells": [
    {
      "cell_type": "code",
      "metadata": {
        "colab": {
          "base_uri": "https://localhost:8080/"
        },
        "id": "qCysC6_TKqqd",
        "outputId": "ce3870ef-00b3-49c4-9bf2-aa9e2888b644"
      },
      "source": [
        "import tensorflow as tf\n",
        "from tensorflow.keras import datasets,models,layers\n",
        "import matplotlib.pyplot as plt\n",
        "from tensorflow.keras.datasets import cifar10\n",
        "# setting class names\n",
        "class_names=['airplane','automobile','bird','cat','deer','dog','frog','horse','ship','truck']\n",
        "#loading the dataset\n",
        "(x_train,y_train),(x_test,y_test)=cifar10.load_data()\n",
        "x_train=x_train/255.0\n",
        "x_train.shape\n",
        "\n",
        "\n",
        "\n"
      ],
      "execution_count": 16,
      "outputs": [
        {
          "output_type": "execute_result",
          "data": {
            "text/plain": [
              "(50000, 32, 32, 3)"
            ]
          },
          "metadata": {
            "tags": []
          },
          "execution_count": 16
        }
      ]
    },
    {
      "cell_type": "code",
      "metadata": {
        "colab": {
          "base_uri": "https://localhost:8080/"
        },
        "id": "jFzgh-CeDswl",
        "outputId": "4d207521-8fa9-4c6f-a5be-c44ec21b616f"
      },
      "source": [
        "x_test=x_test/255.0\n",
        "x_test.shape"
      ],
      "execution_count": 17,
      "outputs": [
        {
          "output_type": "execute_result",
          "data": {
            "text/plain": [
              "(10000, 32, 32, 3)"
            ]
          },
          "metadata": {
            "tags": []
          },
          "execution_count": 17
        }
      ]
    },
    {
      "cell_type": "code",
      "metadata": {
        "id": "BzjoZ89mRmS3"
      },
      "source": [
        "cifar10_model=tf.keras.models.Sequential()\n",
        "# First Layer\n",
        "cifar10_model.add(tf.keras.layers.Conv2D(filters=32,kernel_size=3, padding=\"same\", activation=\"relu\", input_shape=[32,32,3]))\n",
        "# Second Layer\n",
        "cifar10_model.add(tf.keras.layers.Conv2D(filters=32,kernel_size=3,padding=\"same\", activation=\"relu\"))\n",
        "#MaxPoolingLayer\n",
        "cifar10_model.add(tf.keras.layers.MaxPool2D(pool_size=2,strides=2, padding=\"valid\"))\n",
        "# Third Layer\n",
        "cifar10_model.add(tf.keras.layers.Conv2D(filters=64,kernel_size=3,padding=\"same\", activation=\"relu\"))\n",
        "# Fourth Layer\n",
        "cifar10_model.add(tf.keras.layers.Conv2D(filters=64,kernel_size=3,padding=\"same\", activation=\"relu\"))\n",
        "#MaxPoolingLayer\n",
        "cifar10_model.add(tf.keras.layers.MaxPool2D(pool_size=2,strides=2, padding=\"valid\"))\n",
        "# Flattening Layer\n",
        "cifar10_model.add(tf.keras.layers.Flatten())\n",
        "# Droput Layer\n",
        "cifar10_model.add(tf.keras.layers.Dropout(0.5,noise_shape=None,seed=None))\n",
        "# Adding the first fully connected layer\n",
        "cifar10_model.add(tf.keras.layers.Dense(units= 128,activation='relu'))\n",
        "# Output Layer\n",
        "cifar10_model.add(tf.keras.layers.Dense(units=10,activation='softmax'))\n",
        "\n"
      ],
      "execution_count": 18,
      "outputs": []
    },
    {
      "cell_type": "code",
      "metadata": {
        "colab": {
          "base_uri": "https://localhost:8080/"
        },
        "id": "DJU12QkmAdXm",
        "outputId": "032f17a1-98d0-416b-a067-b5d784b92616"
      },
      "source": [
        "cifar10_model.summary()"
      ],
      "execution_count": 10,
      "outputs": [
        {
          "output_type": "stream",
          "text": [
            "Model: \"sequential_1\"\n",
            "_________________________________________________________________\n",
            "Layer (type)                 Output Shape              Param #   \n",
            "=================================================================\n",
            "conv2d_4 (Conv2D)            (None, 32, 32, 32)        896       \n",
            "_________________________________________________________________\n",
            "conv2d_5 (Conv2D)            (None, 32, 32, 32)        9248      \n",
            "_________________________________________________________________\n",
            "max_pooling2d_2 (MaxPooling2 (None, 16, 16, 32)        0         \n",
            "_________________________________________________________________\n",
            "conv2d_6 (Conv2D)            (None, 16, 16, 64)        18496     \n",
            "_________________________________________________________________\n",
            "conv2d_7 (Conv2D)            (None, 16, 16, 64)        36928     \n",
            "_________________________________________________________________\n",
            "max_pooling2d_3 (MaxPooling2 (None, 8, 8, 64)          0         \n",
            "_________________________________________________________________\n",
            "flatten_1 (Flatten)          (None, 4096)              0         \n",
            "_________________________________________________________________\n",
            "dropout (Dropout)            (None, 4096)              0         \n",
            "_________________________________________________________________\n",
            "dense (Dense)                (None, 128)               524416    \n",
            "_________________________________________________________________\n",
            "dense_1 (Dense)              (None, 10)                1290      \n",
            "=================================================================\n",
            "Total params: 591,274\n",
            "Trainable params: 591,274\n",
            "Non-trainable params: 0\n",
            "_________________________________________________________________\n"
          ],
          "name": "stdout"
        }
      ]
    },
    {
      "cell_type": "code",
      "metadata": {
        "id": "Ae3xiaEMCegy"
      },
      "source": [
        "cifar10_model.compile(loss=\"sparse_categorical_crossentropy\", optimizer=\"Adam\", metrics=[\"sparse_categorical_accuracy\"])\n"
      ],
      "execution_count": 19,
      "outputs": []
    },
    {
      "cell_type": "code",
      "metadata": {
        "colab": {
          "base_uri": "https://localhost:8080/"
        },
        "id": "xvZzK8fMCelt",
        "outputId": "1d2e756e-7800-44f6-cab7-8132ef11589e"
      },
      "source": [
        "cifar10_model.fit(x_train,y_train,epochs=15)"
      ],
      "execution_count": 20,
      "outputs": [
        {
          "output_type": "stream",
          "text": [
            "Epoch 1/15\n",
            "1563/1563 [==============================] - 261s 166ms/step - loss: 1.6689 - sparse_categorical_accuracy: 0.3894\n",
            "Epoch 2/15\n",
            "1563/1563 [==============================] - 265s 170ms/step - loss: 1.0534 - sparse_categorical_accuracy: 0.6248\n",
            "Epoch 3/15\n",
            "1563/1563 [==============================] - 266s 170ms/step - loss: 0.8584 - sparse_categorical_accuracy: 0.6955\n",
            "Epoch 4/15\n",
            "1563/1563 [==============================] - 266s 170ms/step - loss: 0.7633 - sparse_categorical_accuracy: 0.7311\n",
            "Epoch 5/15\n",
            "1563/1563 [==============================] - 269s 172ms/step - loss: 0.6828 - sparse_categorical_accuracy: 0.7592\n",
            "Epoch 6/15\n",
            "1563/1563 [==============================] - 276s 176ms/step - loss: 0.6268 - sparse_categorical_accuracy: 0.7799\n",
            "Epoch 7/15\n",
            "1563/1563 [==============================] - 265s 170ms/step - loss: 0.5769 - sparse_categorical_accuracy: 0.7954\n",
            "Epoch 8/15\n",
            "1563/1563 [==============================] - 265s 170ms/step - loss: 0.5285 - sparse_categorical_accuracy: 0.8125\n",
            "Epoch 9/15\n",
            "1563/1563 [==============================] - 265s 170ms/step - loss: 0.4991 - sparse_categorical_accuracy: 0.8245\n",
            "Epoch 10/15\n",
            "1563/1563 [==============================] - 264s 169ms/step - loss: 0.4763 - sparse_categorical_accuracy: 0.8293\n",
            "Epoch 11/15\n",
            "1563/1563 [==============================] - 263s 168ms/step - loss: 0.4402 - sparse_categorical_accuracy: 0.8428\n",
            "Epoch 12/15\n",
            "1563/1563 [==============================] - 266s 170ms/step - loss: 0.4215 - sparse_categorical_accuracy: 0.8519\n",
            "Epoch 13/15\n",
            "1563/1563 [==============================] - 266s 170ms/step - loss: 0.4134 - sparse_categorical_accuracy: 0.8518\n",
            "Epoch 14/15\n",
            "1563/1563 [==============================] - 265s 169ms/step - loss: 0.3875 - sparse_categorical_accuracy: 0.8626\n",
            "Epoch 15/15\n",
            "1563/1563 [==============================] - 266s 170ms/step - loss: 0.3662 - sparse_categorical_accuracy: 0.8689\n"
          ],
          "name": "stdout"
        },
        {
          "output_type": "execute_result",
          "data": {
            "text/plain": [
              "<tensorflow.python.keras.callbacks.History at 0x7fc96c4b4190>"
            ]
          },
          "metadata": {
            "tags": []
          },
          "execution_count": 20
        }
      ]
    },
    {
      "cell_type": "code",
      "metadata": {
        "id": "575X4cmYELnm"
      },
      "source": [
        ""
      ],
      "execution_count": null,
      "outputs": []
    },
    {
      "cell_type": "code",
      "metadata": {
        "colab": {
          "base_uri": "https://localhost:8080/"
        },
        "id": "6sY9ir9BCeqm",
        "outputId": "96834546-2fb9-4a92-eef2-68682f5ed75b"
      },
      "source": [
        "\n",
        "\n",
        "test_loss, test_accuracy = cifar10_model.evaluate(x_test, y_test)\n",
        "\n"
      ],
      "execution_count": 21,
      "outputs": [
        {
          "output_type": "stream",
          "text": [
            "313/313 [==============================] - 13s 41ms/step - loss: 0.6856 - sparse_categorical_accuracy: 0.7827\n"
          ],
          "name": "stdout"
        }
      ]
    },
    {
      "cell_type": "code",
      "metadata": {
        "colab": {
          "base_uri": "https://localhost:8080/"
        },
        "id": "B-s2cDJ-EM2o",
        "outputId": "4f23af63-27df-4757-f8e2-5114c4b7e074"
      },
      "source": [
        "print(\"Test accuracy: {}\".format(test_accuracy))\n",
        "\n",
        "\n",
        "\n"
      ],
      "execution_count": 22,
      "outputs": [
        {
          "output_type": "stream",
          "text": [
            "Test accuracy: 0.7827000021934509\n"
          ],
          "name": "stdout"
        }
      ]
    },
    {
      "cell_type": "code",
      "metadata": {
        "id": "wKnFg5ovEOGl"
      },
      "source": [
        ""
      ],
      "execution_count": null,
      "outputs": []
    },
    {
      "cell_type": "code",
      "metadata": {
        "id": "3mGpShwzEOJe"
      },
      "source": [
        ""
      ],
      "execution_count": null,
      "outputs": []
    },
    {
      "cell_type": "code",
      "metadata": {
        "id": "zrebpCtmEOLc"
      },
      "source": [
        ""
      ],
      "execution_count": null,
      "outputs": []
    },
    {
      "cell_type": "code",
      "metadata": {
        "id": "29JZjiFpEOO3"
      },
      "source": [
        ""
      ],
      "execution_count": null,
      "outputs": []
    },
    {
      "cell_type": "code",
      "metadata": {
        "id": "upV53lHhEOQs"
      },
      "source": [
        ""
      ],
      "execution_count": null,
      "outputs": []
    }
  ]
}